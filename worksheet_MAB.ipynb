{
  "cells": [
    {
      "cell_type": "markdown",
      "metadata": {
        "id": "prjem6NJY38f"
      },
      "source": [
        "# Multi-armed bandits"
      ]
    },
    {
      "cell_type": "code",
      "execution_count": null,
      "metadata": {
        "id": "cNE7rf1GY38j"
      },
      "outputs": [],
      "source": [
        "# import required packages\n",
        "import numpy as np\n",
        "import matplotlib.pyplot as plt\n",
        "from abc import ABC, abstractmethod"
      ]
    },
    {
      "cell_type": "markdown",
      "metadata": {
        "id": "yJkRF_KCY38l"
      },
      "source": [
        "\n",
        "\n",
        "## Media recommendation \n",
        "In this worksheet, the problem of choosing articles to recommend to users on a news website is considered. The articles correspond to actions and clicks correspond to rewards (assumed to be {0, 1}-valued). The per round cumulative reward corresponds to the click-through-rate (CTR), which is exactly what news services want to maximise to drive user engagement and advertising revenue.\n",
        "\n",
        "\n",
        "### Implementation details\n",
        "Here, epsilon-greedy MAB is implemented as classes which derive from a common base class `BaseMAB` defined in the code block below.\n",
        "\n",
        "There are only two public methods:\n",
        "* `play`: use this to pull an arm\n",
        "* `update`: use this to update the internal state of the MAB based on the reward received\n",
        "\n",
        "Only a small amount of logic is implemented in `BaseMAB`.\n",
        "It sets the number of arms; initialises an array for recording the number of pulls of each arm; and does some basic input checking."
      ]
    },
    {
      "cell_type": "code",
      "execution_count": null,
      "metadata": {
        "id": "8AMod42gY38m"
      },
      "outputs": [],
      "source": [
        "class BaseMAB(ABC):\n",
        "    \"\"\"\n",
        "    Base class for a multi-armed bandit (MAB)\n",
        "\n",
        "    Parameters\n",
        "    ----------\n",
        "    n_arms : int\n",
        "        Number of arms\n",
        "\n",
        "    Attributes\n",
        "    ----------\n",
        "    n_pulls : numpy.ndarray, shape=(n_arms,)\n",
        "        Number of pulls for each arm\n",
        "    \"\"\"\n",
        "    def __init__(self, n_arms):\n",
        "        if not isinstance(n_arms, (int, np.integer)):\n",
        "            raise TypeError(\"`n_arms` must be an int\")\n",
        "        if n_arms <= 0:\n",
        "            raise ValueError(\"`n_arms` must be positive\")\n",
        "        self.n_arms = n_arms\n",
        "        self.n_pulls = np.zeros(n_arms, dtype=int)\n",
        "\n",
        "    @abstractmethod\n",
        "    def play(self):\n",
        "        \"\"\"\n",
        "        Play a round\n",
        "\n",
        "        Returns\n",
        "        -------\n",
        "        arm : int\n",
        "            A positive integer arm id in {0, ..., n_arms - 1}\n",
        "        \"\"\"\n",
        "        pass\n",
        "\n",
        "    @abstractmethod\n",
        "    def update(self, arm, reward):\n",
        "        \"\"\"\n",
        "        Updates the internal state of the MAB after playing a round\n",
        "\n",
        "        Parameters\n",
        "        ----------\n",
        "        arm : int\n",
        "            A positive integer arm id in {0, ..., n_arms - 1}\n",
        "\n",
        "        reward : float\n",
        "            Reward received from arm\n",
        "        \"\"\"\n",
        "        if not isinstance(arm, (int, np.integer)):\n",
        "            raise TypeError(\"`arm` must be an int\")\n",
        "        if arm >= self.n_arms or arm < 0:\n",
        "            raise ValueError(\"`arm` must be in the range [0, {}]\".format(self.n_arms - 1))\n",
        "        if not isinstance(reward, (int, np.integer, float, np.float64)):\n",
        "            raise TypeError(\"`reward` must be a numeric scalar\")"
      ]
    },
    {
      "cell_type": "markdown",
      "metadata": {
        "id": "eHkCb4StY38m"
      },
      "source": [
        "***\n",
        "## Epsilon-greedy strategy"
      ]
    },
    {
      "cell_type": "code",
      "execution_count": null,
      "metadata": {
        "id": "AsQXFxWCY38n"
      },
      "outputs": [],
      "source": [
        "def argmax_rand(x):\n",
        "    \"\"\"\n",
        "    Argmax with ties broken uniformly at random\n",
        "\n",
        "    Parameters\n",
        "    ----------\n",
        "    x : 1d numpy.ndarray\n",
        "        Input array\n",
        "\n",
        "    Returns\n",
        "    -------\n",
        "    argmax : int\n",
        "        Integer index of the max value in x\n",
        "    \"\"\"\n",
        "    # fill in\n",
        "    return np.random.choice(np.flatnonzero(x == x.max()))\n",
        "#     return np.argmax(x)"
      ]
    },
    {
      "cell_type": "code",
      "execution_count": null,
      "metadata": {
        "id": "d_zRsh7KY38n"
      },
      "outputs": [],
      "source": [
        "class EpsGreedy(BaseMAB):\n",
        "    \"\"\"\n",
        "    Epsilon-Greedy multi-armed bandit\n",
        "\n",
        "    Parameters\n",
        "    ----------\n",
        "    n_arms : int\n",
        "        Number of arms\n",
        "\n",
        "    epsilon : float\n",
        "        Explore probability in interval [0, 1]\n",
        "\n",
        "    Q0 : float, optional\n",
        "        Initial value for the arms\n",
        "\n",
        "    Attributes\n",
        "    ----------\n",
        "    n_pulls : numpy.ndarray, shape=(narms,)\n",
        "        Number of pulls for each arm\n",
        "\n",
        "    mean_rewards : numpy.ndarray, shape=(narms,)\n",
        "        Mean reward per arm\n",
        "    \"\"\"\n",
        "    def __init__(self, n_arms, epsilon, Q0=np.inf):\n",
        "        super().__init__(n_arms)\n",
        "        self.epsilon = float(epsilon)\n",
        "        self.Q0 = float(Q0)\n",
        "        if self.epsilon < 0 or self.epsilon > 1:\n",
        "            raise ValueError(\"`epsilon` must be in the interval [0, 1]\")\n",
        "        self.mean_rewards = np.full(n_arms, self.Q0)\n",
        "\n",
        "    def play(self):\n",
        "        super().play()\n",
        "        # fill in\n",
        "#         if random.random() < self.epsilon:\n",
        "        if np.random.binomial(1, self.epsilon):\n",
        "            # Explore\n",
        "            return np.random.randint(0, self.n_arms)\n",
        "        else:\n",
        "            # Exploit\n",
        "            return argmax_rand(self.mean_rewards)\n",
        "\n",
        "    def update(self, arm, reward):\n",
        "        super().update(arm, reward)\n",
        "        # fill in\n",
        "        n = self.n_pulls[arm]\n",
        "        if n > 0:\n",
        "            self.mean_rewards[arm] = (self.mean_rewards[arm] * n + reward) / (n + 1)\n",
        "        else:\n",
        "            self.mean_rewards[arm] = reward\n",
        "        self.n_pulls[arm] += 1"
      ]
    },
    {
      "cell_type": "markdown",
      "metadata": {
        "id": "7koTH9dLY38o"
      },
      "source": [
        "\n",
        "## Upper Confidence Bound"
      ]
    },
    {
      "cell_type": "code",
      "execution_count": null,
      "metadata": {
        "id": "oyKoWYfdY38o"
      },
      "outputs": [],
      "source": [
        "class UCB(BaseMAB):\n",
        "    \"\"\"Upper Confidence Bound (UCB) multi-armed bandit\n",
        "\n",
        "    Parameters\n",
        "    ----------\n",
        "    n_arms : int\n",
        "        Number of arms.\n",
        "\n",
        "    c : float\n",
        "        Positive real explore-exploit parameter.\n",
        "\n",
        "    Q0 : float, default=np.inf\n",
        "        Initial value for the arms.\n",
        "    \"\"\"\n",
        "    def __init__(self, n_arms, c, Q0=np.inf):\n",
        "        super().__init__(n_arms)\n",
        "        if not np.issubdtype(type(c), np.floating):\n",
        "            raise TypeError(\"`c` must be a float\")\n",
        "        if c <= 0:\n",
        "            raise ValueError(\"`c` must be positive\")\n",
        "        if not np.issubdtype(type(Q0), np.floating):\n",
        "            raise ValueError(\"`Q0` must be a float\")\n",
        "\n",
        "        self.c = c\n",
        "        self.Q0 = Q0\n",
        "        self.n_pulls = np.zeros(n_arms)\n",
        "        self.mean_rewards = np.full(n_arms, self.Q0)\n",
        "        self.Q_values = np.copy(self.mean_rewards)\n",
        "        self.n_rounds = 0\n",
        "\n",
        "    def play(self):\n",
        "        super().play()\n",
        "        return argmax_rand(self.Q_values)\n",
        "\n",
        "    def update(self, arm, reward):\n",
        "        super().update(arm, reward)\n",
        "\n",
        "        # Online update of mean rewards\n",
        "        n = self.n_pulls[arm]\n",
        "        if n > 0:\n",
        "            self.mean_rewards[arm] = (self.mean_rewards[arm] * n + reward) / (n + 1)\n",
        "        else:\n",
        "            self.mean_rewards[arm] = reward\n",
        "        self.n_pulls[arm] += 1\n",
        "\n",
        "        # Update Q-values\n",
        "        self.Q_values[:] = self.mean_rewards\n",
        "        # Add on UCB for arms that have been pulled at least once\n",
        "        pulled_prev = self.n_pulls > 0\n",
        "        self.Q_values[pulled_prev] += np.sqrt(self.c * np.log(self.n_rounds + 1) / self.n_pulls[pulled_prev])\n",
        "        self.n_rounds += 1"
      ]
    },
    {
      "cell_type": "markdown",
      "metadata": {
        "id": "ZiCLcqt-Y38o"
      },
      "source": [
        "\n",
        "## Offline evaluation"
      ]
    },
    {
      "cell_type": "code",
      "execution_count": null,
      "metadata": {
        "id": "NftoKwsaY38p"
      },
      "outputs": [],
      "source": [
        "def offlineEvaluate(mab, arms, rewards, n_rounds=None):\n",
        "    \"\"\"\n",
        "    Offline evaluation of a multi-armed bandit\n",
        "\n",
        "    Parameters\n",
        "    ----------\n",
        "    mab : instance of MAB\n",
        "        Multi-armed bandit strategy to evaluate\n",
        "\n",
        "    arms : int numpy.ndarray, shape (n_events,)\n",
        "        Sequence of randomly selected arm ids (events)\n",
        "\n",
        "    rewards : float numpy.ndarray, shape (n_events,)\n",
        "        Sequence of rewards received for each event\n",
        "\n",
        "    n_rounds : int, optional\n",
        "        Number of matching events to evaluate `mab` on.\n",
        "\n",
        "    Returns\n",
        "    -------\n",
        "    out : 1D float array\n",
        "        Rewards for the matching events.\n",
        "    \"\"\"\n",
        "    if not isinstance(mab, BaseMAB):\n",
        "        raise TypeError(\"`mab` must be an instance of BaseMAB\")\n",
        "\n",
        "    if not isinstance(arms, np.ndarray):\n",
        "        raise TypeError(\"`arms` must be a numpy.ndarray\")\n",
        "    if arms.ndim != 1:\n",
        "        raise ValueError(\"`arms` must be a 1d array\")\n",
        "    arms = arms.astype(int)\n",
        "    if np.setdiff1d(np.unique(arms), np.arange(mab.n_arms)).size != 0:\n",
        "        raise ValueError(\"`arms` contains values not in [0,...,n_arms-1]\")\n",
        "\n",
        "    if not isinstance(rewards, np.ndarray):\n",
        "        raise TypeError(\"`rewards` must be a numpy.ndarray\")\n",
        "    if rewards.ndim != 1:\n",
        "        raise ValueError(\"`rewards` must be a 1d array\")\n",
        "    if arms.shape != rewards.shape:\n",
        "        raise ValueError(\"`arms` and `rewards` must have the same shape\")\n",
        "    rewards = rewards.astype(float)\n",
        "#     rewards = np.float64(rewards)\n",
        "\n",
        "    if n_rounds is not None:\n",
        "        n_rounds = int(n_rounds)\n",
        "        if n_rounds < 0:\n",
        "            raise ValueError(\"`n_rounds` must be non-negative\")\n",
        "\n",
        "    matched_ctr = 0\n",
        "    matched_rewards = list()\n",
        "    for i in range(arms.size):\n",
        "        if n_rounds is not None and matched_ctr >= n_rounds:\n",
        "            break\n",
        "        arm = mab.play()\n",
        "        if arm == arms[i]:\n",
        "            mab.update(arm, rewards[i])\n",
        "            matched_ctr += 1\n",
        "            matched_rewards.append(rewards[i])\n",
        "    return np.array(matched_rewards)"
      ]
    },
    {
      "cell_type": "markdown",
      "metadata": {
        "id": "XYs1b2opY38p"
      },
      "source": [
        "Let's now load a historical data set.\n",
        "It corresponds to a bandit problem with $K = 10$ arms (news articles).\n",
        "There are 10,000 uniformly-random arm pulls along with the observed rewards.\n",
        "The 10-dimensional context vector for each arm (modelling article/user features) is discarded here."
      ]
    },
    {
      "cell_type": "code",
      "execution_count": null,
      "metadata": {
        "id": "2gcWLxcnY38p"
      },
      "outputs": [],
      "source": [
        "# Load event log from a bandit run\n",
        "dataset = np.genfromtxt('dataset.txt.gz', dtype=np.int64)\n",
        "arms = dataset[:,0] - 1\n",
        "rewards = dataset[:,1].astype(float)\n",
        "# contexts = dataset[:,2::].astype(float).reshape(-1,10,10) (don't need contexts)"
      ]
    },
    {
      "cell_type": "markdown",
      "metadata": {
        "id": "oHGR3V1eY38p"
      },
      "source": [
        "Evaluate the epsilon-greedy strategy and UCB strategy on this data set. We set $\\epsilon = 0.01$ for epsilon-greedy and $c=1.0$ for UCB"
      ]
    },
    {
      "cell_type": "code",
      "execution_count": null,
      "metadata": {
        "id": "d1OpMR3WY38q",
        "outputId": "ebe92409-ba3b-4496-a502-b9bd83c52888"
      },
      "outputs": [
        {
          "name": "stdout",
          "output_type": "stream",
          "text": [
            "EpsGreedy average reward 0.19\n"
          ]
        }
      ],
      "source": [
        "epsgreedy_mab = EpsGreedy(10, epsilon=0.01,Q0=10)\n",
        "results_EpsGreedy = offlineEvaluate(epsgreedy_mab, arms, rewards, n_rounds=800)\n",
        "print('EpsGreedy average reward', np.mean(results_EpsGreedy))"
      ]
    },
    {
      "cell_type": "code",
      "execution_count": null,
      "metadata": {
        "id": "4VvZiUKZY38q",
        "outputId": "b5e3722c-58be-443c-f84d-e103865c54ef"
      },
      "outputs": [
        {
          "name": "stdout",
          "output_type": "stream",
          "text": [
            "UCB average reward 0.17625\n"
          ]
        }
      ],
      "source": [
        "ucb_mab = UCB(10, c=1.0)\n",
        "results_UCB = offlineEvaluate(ucb_mab, arms, rewards, n_rounds=800)\n",
        "print('UCB average reward', np.mean(results_UCB))"
      ]
    },
    {
      "cell_type": "markdown",
      "metadata": {
        "id": "_E256YO7Y38q"
      },
      "source": [
        "Let's plot the running average cumulative reward v.s. round"
      ]
    },
    {
      "cell_type": "code",
      "execution_count": null,
      "metadata": {
        "id": "TWzgT4PZY38q",
        "outputId": "68edb937-012f-48f8-8ffb-925f93ed8831"
      },
      "outputs": [
        {
          "data": {
            "image/png": "[encoded data removed]",
            "text/plain": [
              "<Figure size 432x288 with 1 Axes>"
            ]
          },
          "metadata": {
            "needs_background": "light"
          },
          "output_type": "display_data"
        }
      ],
      "source": [
        "for mab in ['EpsGreedy', 'UCB']:\n",
        "    results = eval('results_' + mab)\n",
        "    t_round = np.arange(1, results.size + 1)\n",
        "    cumsum = np.cumsum(results) / t_round\n",
        "    plt.plot(t_round, cumsum, label=mab)\n",
        "plt.legend()\n",
        "plt.xlabel('Round')\n",
        "plt.ylabel('Running average cumulative reward')\n",
        "plt.show()"
      ]
    }
  ],
  "metadata": {
    "colab": {
      "provenance": []
    },
    "kernelspec": {
      "display_name": "Python 3",
      "language": "python",
      "name": "python3"
    },
    "language_info": {
      "codemirror_mode": {
        "name": "ipython",
        "version": 3
      },
      "file_extension": ".py",
      "mimetype": "text/x-python",
      "name": "python",
      "nbconvert_exporter": "python",
      "pygments_lexer": "ipython3",
      "version": "3.7.3"
    }
  },
  "nbformat": 4,
  "nbformat_minor": 0
}
